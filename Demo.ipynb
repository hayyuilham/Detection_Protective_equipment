{
  "nbformat": 4,
  "nbformat_minor": 0,
  "metadata": {
    "colab": {
      "provenance": []
    },
    "kernelspec": {
      "name": "python3",
      "display_name": "Python 3"
    },
    "language_info": {
      "name": "python"
    }
  },
  "cells": [
    {
      "cell_type": "code",
      "source": [
        "from google.colab import drive\n",
        "drive.mount('/content/drive')"
      ],
      "metadata": {
        "colab": {
          "base_uri": "https://localhost:8080/"
        },
        "id": "0mPzVkV6XLlM",
        "outputId": "0b77bf9e-c6fc-4a91-ce8e-89be0b0a55e9"
      },
      "execution_count": 5,
      "outputs": [
        {
          "output_type": "stream",
          "name": "stdout",
          "text": [
            "Drive already mounted at /content/drive; to attempt to forcibly remount, call drive.mount(\"/content/drive\", force_remount=True).\n"
          ]
        }
      ]
    },
    {
      "cell_type": "code",
      "source": [
        "pip install streamlit"
      ],
      "metadata": {
        "colab": {
          "base_uri": "https://localhost:8080/"
        },
        "id": "E9Hpf0cj7Nh-",
        "outputId": "baae58e4-4fe7-4968-f2db-aa7da53eb812"
      },
      "execution_count": 2,
      "outputs": [
        {
          "output_type": "stream",
          "name": "stdout",
          "text": [
            "Collecting streamlit\n",
            "  Downloading streamlit-1.31.1-py2.py3-none-any.whl (8.4 MB)\n",
            "\u001b[2K     \u001b[90m━━━━━━━━━━━━━━━━━━━━━━━━━━━━━━━━━━━━━━━━\u001b[0m \u001b[32m8.4/8.4 MB\u001b[0m \u001b[31m35.4 MB/s\u001b[0m eta \u001b[36m0:00:00\u001b[0m\n",
            "\u001b[?25hRequirement already satisfied: altair<6,>=4.0 in /usr/local/lib/python3.10/dist-packages (from streamlit) (4.2.2)\n",
            "Requirement already satisfied: blinker<2,>=1.0.0 in /usr/lib/python3/dist-packages (from streamlit) (1.4)\n",
            "Requirement already satisfied: cachetools<6,>=4.0 in /usr/local/lib/python3.10/dist-packages (from streamlit) (5.3.3)\n",
            "Requirement already satisfied: click<9,>=7.0 in /usr/local/lib/python3.10/dist-packages (from streamlit) (8.1.7)\n",
            "Requirement already satisfied: importlib-metadata<8,>=1.4 in /usr/local/lib/python3.10/dist-packages (from streamlit) (7.0.1)\n",
            "Requirement already satisfied: numpy<2,>=1.19.3 in /usr/local/lib/python3.10/dist-packages (from streamlit) (1.25.2)\n",
            "Requirement already satisfied: packaging<24,>=16.8 in /usr/local/lib/python3.10/dist-packages (from streamlit) (23.2)\n",
            "Requirement already satisfied: pandas<3,>=1.3.0 in /usr/local/lib/python3.10/dist-packages (from streamlit) (1.5.3)\n",
            "Requirement already satisfied: pillow<11,>=7.1.0 in /usr/local/lib/python3.10/dist-packages (from streamlit) (9.4.0)\n",
            "Requirement already satisfied: protobuf<5,>=3.20 in /usr/local/lib/python3.10/dist-packages (from streamlit) (3.20.3)\n",
            "Requirement already satisfied: pyarrow>=7.0 in /usr/local/lib/python3.10/dist-packages (from streamlit) (14.0.2)\n",
            "Requirement already satisfied: python-dateutil<3,>=2.7.3 in /usr/local/lib/python3.10/dist-packages (from streamlit) (2.8.2)\n",
            "Requirement already satisfied: requests<3,>=2.27 in /usr/local/lib/python3.10/dist-packages (from streamlit) (2.31.0)\n",
            "Requirement already satisfied: rich<14,>=10.14.0 in /usr/local/lib/python3.10/dist-packages (from streamlit) (13.7.1)\n",
            "Requirement already satisfied: tenacity<9,>=8.1.0 in /usr/local/lib/python3.10/dist-packages (from streamlit) (8.2.3)\n",
            "Requirement already satisfied: toml<2,>=0.10.1 in /usr/local/lib/python3.10/dist-packages (from streamlit) (0.10.2)\n",
            "Requirement already satisfied: typing-extensions<5,>=4.3.0 in /usr/local/lib/python3.10/dist-packages (from streamlit) (4.10.0)\n",
            "Requirement already satisfied: tzlocal<6,>=1.1 in /usr/local/lib/python3.10/dist-packages (from streamlit) (5.2)\n",
            "Collecting validators<1,>=0.2 (from streamlit)\n",
            "  Downloading validators-0.22.0-py3-none-any.whl (26 kB)\n",
            "Collecting gitpython!=3.1.19,<4,>=3.0.7 (from streamlit)\n",
            "  Downloading GitPython-3.1.42-py3-none-any.whl (195 kB)\n",
            "\u001b[2K     \u001b[90m━━━━━━━━━━━━━━━━━━━━━━━━━━━━━━━━━━━━━━━━\u001b[0m \u001b[32m195.4/195.4 kB\u001b[0m \u001b[31m16.0 MB/s\u001b[0m eta \u001b[36m0:00:00\u001b[0m\n",
            "\u001b[?25hCollecting pydeck<1,>=0.8.0b4 (from streamlit)\n",
            "  Downloading pydeck-0.8.1b0-py2.py3-none-any.whl (4.8 MB)\n",
            "\u001b[2K     \u001b[90m━━━━━━━━━━━━━━━━━━━━━━━━━━━━━━━━━━━━━━━━\u001b[0m \u001b[32m4.8/4.8 MB\u001b[0m \u001b[31m49.9 MB/s\u001b[0m eta \u001b[36m0:00:00\u001b[0m\n",
            "\u001b[?25hRequirement already satisfied: tornado<7,>=6.0.3 in /usr/local/lib/python3.10/dist-packages (from streamlit) (6.3.2)\n",
            "Collecting watchdog>=2.1.5 (from streamlit)\n",
            "  Downloading watchdog-4.0.0-py3-none-manylinux2014_x86_64.whl (82 kB)\n",
            "\u001b[2K     \u001b[90m━━━━━━━━━━━━━━━━━━━━━━━━━━━━━━━━━━━━━━━━\u001b[0m \u001b[32m83.0/83.0 kB\u001b[0m \u001b[31m9.7 MB/s\u001b[0m eta \u001b[36m0:00:00\u001b[0m\n",
            "\u001b[?25hRequirement already satisfied: entrypoints in /usr/local/lib/python3.10/dist-packages (from altair<6,>=4.0->streamlit) (0.4)\n",
            "Requirement already satisfied: jinja2 in /usr/local/lib/python3.10/dist-packages (from altair<6,>=4.0->streamlit) (3.1.3)\n",
            "Requirement already satisfied: jsonschema>=3.0 in /usr/local/lib/python3.10/dist-packages (from altair<6,>=4.0->streamlit) (4.19.2)\n",
            "Requirement already satisfied: toolz in /usr/local/lib/python3.10/dist-packages (from altair<6,>=4.0->streamlit) (0.12.1)\n",
            "Collecting gitdb<5,>=4.0.1 (from gitpython!=3.1.19,<4,>=3.0.7->streamlit)\n",
            "  Downloading gitdb-4.0.11-py3-none-any.whl (62 kB)\n",
            "\u001b[2K     \u001b[90m━━━━━━━━━━━━━━━━━━━━━━━━━━━━━━━━━━━━━━━━\u001b[0m \u001b[32m62.7/62.7 kB\u001b[0m \u001b[31m8.0 MB/s\u001b[0m eta \u001b[36m0:00:00\u001b[0m\n",
            "\u001b[?25hRequirement already satisfied: zipp>=0.5 in /usr/local/lib/python3.10/dist-packages (from importlib-metadata<8,>=1.4->streamlit) (3.17.0)\n",
            "Requirement already satisfied: pytz>=2020.1 in /usr/local/lib/python3.10/dist-packages (from pandas<3,>=1.3.0->streamlit) (2023.4)\n",
            "Requirement already satisfied: six>=1.5 in /usr/local/lib/python3.10/dist-packages (from python-dateutil<3,>=2.7.3->streamlit) (1.16.0)\n",
            "Requirement already satisfied: charset-normalizer<4,>=2 in /usr/local/lib/python3.10/dist-packages (from requests<3,>=2.27->streamlit) (3.3.2)\n",
            "Requirement already satisfied: idna<4,>=2.5 in /usr/local/lib/python3.10/dist-packages (from requests<3,>=2.27->streamlit) (3.6)\n",
            "Requirement already satisfied: urllib3<3,>=1.21.1 in /usr/local/lib/python3.10/dist-packages (from requests<3,>=2.27->streamlit) (2.0.7)\n",
            "Requirement already satisfied: certifi>=2017.4.17 in /usr/local/lib/python3.10/dist-packages (from requests<3,>=2.27->streamlit) (2024.2.2)\n",
            "Requirement already satisfied: markdown-it-py>=2.2.0 in /usr/local/lib/python3.10/dist-packages (from rich<14,>=10.14.0->streamlit) (3.0.0)\n",
            "Requirement already satisfied: pygments<3.0.0,>=2.13.0 in /usr/local/lib/python3.10/dist-packages (from rich<14,>=10.14.0->streamlit) (2.16.1)\n",
            "Collecting smmap<6,>=3.0.1 (from gitdb<5,>=4.0.1->gitpython!=3.1.19,<4,>=3.0.7->streamlit)\n",
            "  Downloading smmap-5.0.1-py3-none-any.whl (24 kB)\n",
            "Requirement already satisfied: MarkupSafe>=2.0 in /usr/local/lib/python3.10/dist-packages (from jinja2->altair<6,>=4.0->streamlit) (2.1.5)\n",
            "Requirement already satisfied: attrs>=22.2.0 in /usr/local/lib/python3.10/dist-packages (from jsonschema>=3.0->altair<6,>=4.0->streamlit) (23.2.0)\n",
            "Requirement already satisfied: jsonschema-specifications>=2023.03.6 in /usr/local/lib/python3.10/dist-packages (from jsonschema>=3.0->altair<6,>=4.0->streamlit) (2023.12.1)\n",
            "Requirement already satisfied: referencing>=0.28.4 in /usr/local/lib/python3.10/dist-packages (from jsonschema>=3.0->altair<6,>=4.0->streamlit) (0.33.0)\n",
            "Requirement already satisfied: rpds-py>=0.7.1 in /usr/local/lib/python3.10/dist-packages (from jsonschema>=3.0->altair<6,>=4.0->streamlit) (0.18.0)\n",
            "Requirement already satisfied: mdurl~=0.1 in /usr/local/lib/python3.10/dist-packages (from markdown-it-py>=2.2.0->rich<14,>=10.14.0->streamlit) (0.1.2)\n",
            "Installing collected packages: watchdog, validators, smmap, pydeck, gitdb, gitpython, streamlit\n",
            "Successfully installed gitdb-4.0.11 gitpython-3.1.42 pydeck-0.8.1b0 smmap-5.0.1 streamlit-1.31.1 validators-0.22.0 watchdog-4.0.0\n"
          ]
        }
      ]
    },
    {
      "cell_type": "code",
      "source": [
        "!git clone https://github.com/ultralytics/ultralytics\n",
        "!pip install ultralytics"
      ],
      "metadata": {
        "colab": {
          "base_uri": "https://localhost:8080/"
        },
        "id": "SNvbxo-yBNL-",
        "outputId": "e2246168-f7df-4cd4-a692-30687b7ad04e"
      },
      "execution_count": 3,
      "outputs": [
        {
          "output_type": "stream",
          "name": "stdout",
          "text": [
            "Cloning into 'ultralytics'...\n",
            "remote: Enumerating objects: 22842, done.\u001b[K\n",
            "remote: Counting objects: 100% (768/768), done.\u001b[K\n",
            "remote: Compressing objects: 100% (418/418), done.\u001b[K\n",
            "remote: Total 22842 (delta 488), reused 567 (delta 349), pack-reused 22074\u001b[K\n",
            "Receiving objects: 100% (22842/22842), 13.65 MiB | 18.71 MiB/s, done.\n",
            "Resolving deltas: 100% (15905/15905), done.\n",
            "Collecting ultralytics\n",
            "  Downloading ultralytics-8.1.24-py3-none-any.whl (719 kB)\n",
            "\u001b[2K     \u001b[90m━━━━━━━━━━━━━━━━━━━━━━━━━━━━━━━━━━━━━━━━\u001b[0m \u001b[32m719.5/719.5 kB\u001b[0m \u001b[31m9.9 MB/s\u001b[0m eta \u001b[36m0:00:00\u001b[0m\n",
            "\u001b[?25hRequirement already satisfied: matplotlib>=3.3.0 in /usr/local/lib/python3.10/dist-packages (from ultralytics) (3.7.1)\n",
            "Requirement already satisfied: opencv-python>=4.6.0 in /usr/local/lib/python3.10/dist-packages (from ultralytics) (4.8.0.76)\n",
            "Requirement already satisfied: pillow>=7.1.2 in /usr/local/lib/python3.10/dist-packages (from ultralytics) (9.4.0)\n",
            "Requirement already satisfied: pyyaml>=5.3.1 in /usr/local/lib/python3.10/dist-packages (from ultralytics) (6.0.1)\n",
            "Requirement already satisfied: requests>=2.23.0 in /usr/local/lib/python3.10/dist-packages (from ultralytics) (2.31.0)\n",
            "Requirement already satisfied: scipy>=1.4.1 in /usr/local/lib/python3.10/dist-packages (from ultralytics) (1.11.4)\n",
            "Requirement already satisfied: torch>=1.8.0 in /usr/local/lib/python3.10/dist-packages (from ultralytics) (2.1.0+cu121)\n",
            "Requirement already satisfied: torchvision>=0.9.0 in /usr/local/lib/python3.10/dist-packages (from ultralytics) (0.16.0+cu121)\n",
            "Requirement already satisfied: tqdm>=4.64.0 in /usr/local/lib/python3.10/dist-packages (from ultralytics) (4.66.2)\n",
            "Requirement already satisfied: psutil in /usr/local/lib/python3.10/dist-packages (from ultralytics) (5.9.5)\n",
            "Requirement already satisfied: py-cpuinfo in /usr/local/lib/python3.10/dist-packages (from ultralytics) (9.0.0)\n",
            "Collecting thop>=0.1.1 (from ultralytics)\n",
            "  Downloading thop-0.1.1.post2209072238-py3-none-any.whl (15 kB)\n",
            "Requirement already satisfied: pandas>=1.1.4 in /usr/local/lib/python3.10/dist-packages (from ultralytics) (1.5.3)\n",
            "Requirement already satisfied: seaborn>=0.11.0 in /usr/local/lib/python3.10/dist-packages (from ultralytics) (0.13.1)\n",
            "Requirement already satisfied: contourpy>=1.0.1 in /usr/local/lib/python3.10/dist-packages (from matplotlib>=3.3.0->ultralytics) (1.2.0)\n",
            "Requirement already satisfied: cycler>=0.10 in /usr/local/lib/python3.10/dist-packages (from matplotlib>=3.3.0->ultralytics) (0.12.1)\n",
            "Requirement already satisfied: fonttools>=4.22.0 in /usr/local/lib/python3.10/dist-packages (from matplotlib>=3.3.0->ultralytics) (4.49.0)\n",
            "Requirement already satisfied: kiwisolver>=1.0.1 in /usr/local/lib/python3.10/dist-packages (from matplotlib>=3.3.0->ultralytics) (1.4.5)\n",
            "Requirement already satisfied: numpy>=1.20 in /usr/local/lib/python3.10/dist-packages (from matplotlib>=3.3.0->ultralytics) (1.25.2)\n",
            "Requirement already satisfied: packaging>=20.0 in /usr/local/lib/python3.10/dist-packages (from matplotlib>=3.3.0->ultralytics) (23.2)\n",
            "Requirement already satisfied: pyparsing>=2.3.1 in /usr/local/lib/python3.10/dist-packages (from matplotlib>=3.3.0->ultralytics) (3.1.1)\n",
            "Requirement already satisfied: python-dateutil>=2.7 in /usr/local/lib/python3.10/dist-packages (from matplotlib>=3.3.0->ultralytics) (2.8.2)\n",
            "Requirement already satisfied: pytz>=2020.1 in /usr/local/lib/python3.10/dist-packages (from pandas>=1.1.4->ultralytics) (2023.4)\n",
            "Requirement already satisfied: charset-normalizer<4,>=2 in /usr/local/lib/python3.10/dist-packages (from requests>=2.23.0->ultralytics) (3.3.2)\n",
            "Requirement already satisfied: idna<4,>=2.5 in /usr/local/lib/python3.10/dist-packages (from requests>=2.23.0->ultralytics) (3.6)\n",
            "Requirement already satisfied: urllib3<3,>=1.21.1 in /usr/local/lib/python3.10/dist-packages (from requests>=2.23.0->ultralytics) (2.0.7)\n",
            "Requirement already satisfied: certifi>=2017.4.17 in /usr/local/lib/python3.10/dist-packages (from requests>=2.23.0->ultralytics) (2024.2.2)\n",
            "Requirement already satisfied: filelock in /usr/local/lib/python3.10/dist-packages (from torch>=1.8.0->ultralytics) (3.13.1)\n",
            "Requirement already satisfied: typing-extensions in /usr/local/lib/python3.10/dist-packages (from torch>=1.8.0->ultralytics) (4.10.0)\n",
            "Requirement already satisfied: sympy in /usr/local/lib/python3.10/dist-packages (from torch>=1.8.0->ultralytics) (1.12)\n",
            "Requirement already satisfied: networkx in /usr/local/lib/python3.10/dist-packages (from torch>=1.8.0->ultralytics) (3.2.1)\n",
            "Requirement already satisfied: jinja2 in /usr/local/lib/python3.10/dist-packages (from torch>=1.8.0->ultralytics) (3.1.3)\n",
            "Requirement already satisfied: fsspec in /usr/local/lib/python3.10/dist-packages (from torch>=1.8.0->ultralytics) (2023.6.0)\n",
            "Requirement already satisfied: triton==2.1.0 in /usr/local/lib/python3.10/dist-packages (from torch>=1.8.0->ultralytics) (2.1.0)\n",
            "Requirement already satisfied: six>=1.5 in /usr/local/lib/python3.10/dist-packages (from python-dateutil>=2.7->matplotlib>=3.3.0->ultralytics) (1.16.0)\n",
            "Requirement already satisfied: MarkupSafe>=2.0 in /usr/local/lib/python3.10/dist-packages (from jinja2->torch>=1.8.0->ultralytics) (2.1.5)\n",
            "Requirement already satisfied: mpmath>=0.19 in /usr/local/lib/python3.10/dist-packages (from sympy->torch>=1.8.0->ultralytics) (1.3.0)\n",
            "Installing collected packages: thop, ultralytics\n",
            "Successfully installed thop-0.1.1.post2209072238 ultralytics-8.1.24\n"
          ]
        }
      ]
    },
    {
      "cell_type": "code",
      "source": [
        "# input sample asset\n",
        "\n",
        "import gdown\n",
        "\n",
        "download_link = 'https://drive.google.com/uc?id=1qQkCDS7c6-PjecYuRF7yEuD_P4Vgwi3Z'\n",
        "output_path = '/content/video-contoh-trim.mov'\n",
        "\n",
        "gdown.download(download_link, output_path, quiet=False)\n",
        "print('File berhasil diunduh dan disimpan di:', output_path)\n"
      ],
      "metadata": {
        "colab": {
          "base_uri": "https://localhost:8080/"
        },
        "id": "205wiKnjA0L3",
        "outputId": "9e51d2f0-2bc4-43b3-da3a-c297dcbf3c26"
      },
      "execution_count": 7,
      "outputs": [
        {
          "output_type": "stream",
          "name": "stderr",
          "text": [
            "Downloading...\n",
            "From (original): https://drive.google.com/uc?id=1qQkCDS7c6-PjecYuRF7yEuD_P4Vgwi3Z\n",
            "From (redirected): https://drive.google.com/uc?id=1qQkCDS7c6-PjecYuRF7yEuD_P4Vgwi3Z&confirm=t&uuid=62721889-17fd-4e9d-b312-bc379a151be9\n",
            "To: /content/video-contoh-trim.mov\n",
            "100%|██████████| 206M/206M [00:07<00:00, 26.4MB/s]"
          ]
        },
        {
          "output_type": "stream",
          "name": "stdout",
          "text": [
            "File berhasil diunduh dan disimpan di: /content/video-contoh-trim.mov\n"
          ]
        },
        {
          "output_type": "stream",
          "name": "stderr",
          "text": [
            "\n"
          ]
        }
      ]
    },
    {
      "cell_type": "markdown",
      "source": [
        "Ganti path detection model dengan penyimpanan best.pt"
      ],
      "metadata": {
        "id": "C03E8-D8fEsz"
      }
    },
    {
      "cell_type": "code",
      "source": [
        "%%writefile settings.py\n",
        "from pathlib import Path\n",
        "import sys\n",
        "\n",
        "file_path = Path(__file__).resolve()\n",
        "root_path = file_path.parent\n",
        "\n",
        "if root_path not in sys.path:\n",
        "    sys.path.append(str(root_path))\n",
        "\n",
        "ROOT = root_path.relative_to(Path.cwd())\n",
        "\n",
        "# Sources\n",
        "IMAGE = 'Image'\n",
        "VIDEO = 'Video'\n",
        "\n",
        "SOURCES_LIST = [IMAGE, VIDEO]\n",
        "\n",
        "IMAGES_DIR = ROOT / 'images'\n",
        "\n",
        "VIDEO_DIR = Path('/content')\n",
        "VIDEO_1_PATH = VIDEO_DIR / 'video-contoh-trim.mov'\n",
        "\n",
        "VIDEOS_DICT = {\n",
        "    'video_1': VIDEO_1_PATH,\n",
        "\n",
        "}\n",
        "\n",
        "# Model config\n",
        "MODEL_DIR = ROOT / 'weights'\n",
        "DETECTION_MODEL = '/content/drive/MyDrive/Sistem_Pengenalan_Pelindung/dataset_new/runs/detect/yolov8n_v2_train/weights/best.pt'\n"
      ],
      "metadata": {
        "colab": {
          "base_uri": "https://localhost:8080/"
        },
        "id": "MKPZR7_oBOXJ",
        "outputId": "b1934064-cc14-426b-aee3-d2868712d108"
      },
      "execution_count": 30,
      "outputs": [
        {
          "output_type": "stream",
          "name": "stdout",
          "text": [
            "Overwriting settings.py\n"
          ]
        }
      ]
    },
    {
      "cell_type": "code",
      "source": [
        "%%writefile helper.py\n",
        "\n",
        "from ultralytics import YOLO\n",
        "import time\n",
        "import streamlit as st\n",
        "import cv2\n",
        "import settings\n",
        "\n",
        "def load_model(model_path):\n",
        "    model = YOLO(model_path)\n",
        "    return model\n",
        "\n",
        "\n",
        "def display_tracker_options():\n",
        "    display_tracker = st.radio(\"Display Tracker\", ('Yes', 'No'))\n",
        "    is_display_tracker = True if display_tracker == 'Yes' else False\n",
        "    if is_display_tracker:\n",
        "        tracker_type = st.radio(\"Tracker\", (\"bytetrack.yaml\", \"botsort.yaml\"))\n",
        "        return is_display_tracker, tracker_type\n",
        "    return is_display_tracker, None\n",
        "\n",
        "\n",
        "def _display_detected_frames(conf, model, st_frame, image, is_display_tracking=None, tracker=None):\n",
        "\n",
        "\n",
        "    # Resize the image to a standard size\n",
        "    image = cv2.resize(image, (720, int(720*(9/16))))\n",
        "\n",
        "    # Display object tracking, if specified\n",
        "    if is_display_tracking:\n",
        "        res = model.track(image, conf=conf, persist=True, tracker=tracker)\n",
        "    else:\n",
        "        # Predict the objects in the image using the YOLOv8 model\n",
        "        res = model.predict(image, conf=conf)\n",
        "\n",
        "    # # Plot the detected objects on the video frame\n",
        "    res_plotted = res[0].plot()\n",
        "    st_frame.image(res_plotted,\n",
        "                   caption='Detected Video',\n",
        "                   channels=\"BGR\",\n",
        "                   use_column_width=True\n",
        "                   )\n",
        "\n",
        "\n",
        "def play_stored_video(conf, model):\n",
        "    source_vid = st.sidebar.selectbox(\n",
        "        \"Choose a video...\", settings.VIDEOS_DICT.keys())\n",
        "\n",
        "    is_display_tracker, tracker = display_tracker_options()\n",
        "\n",
        "    with open(settings.VIDEOS_DICT.get(source_vid), 'rb') as video_file:\n",
        "        video_bytes = video_file.read()\n",
        "    if video_bytes:\n",
        "        st.video(video_bytes)\n",
        "\n",
        "    if st.sidebar.button('Detect Video Objects'):\n",
        "        try:\n",
        "            vid_cap = cv2.VideoCapture(\n",
        "                str(settings.VIDEOS_DICT.get(source_vid)))\n",
        "            st_frame = st.empty()\n",
        "            while (vid_cap.isOpened()):\n",
        "                success, image = vid_cap.read()\n",
        "                if success:\n",
        "                    _display_detected_frames(conf,\n",
        "                                             model,\n",
        "                                             st_frame,\n",
        "                                             image,\n",
        "                                             is_display_tracker,\n",
        "                                             tracker\n",
        "                                             )\n",
        "                else:\n",
        "                    vid_cap.release()\n",
        "                    break\n",
        "        except Exception as e:\n",
        "            st.sidebar.error(\"Error loading video: \" + str(e))"
      ],
      "metadata": {
        "colab": {
          "base_uri": "https://localhost:8080/"
        },
        "id": "znngQotkF3Bm",
        "outputId": "52368b91-d646-4725-be57-f89e9b0a07dc"
      },
      "execution_count": 31,
      "outputs": [
        {
          "output_type": "stream",
          "name": "stdout",
          "text": [
            "Overwriting helper.py\n"
          ]
        }
      ]
    },
    {
      "cell_type": "code",
      "source": [
        "%%writefile app.py\n",
        "import streamlit as st\n",
        "\n",
        "from pathlib import Path\n",
        "import PIL\n",
        "\n",
        "# Local Modules\n",
        "import settings\n",
        "import helper\n",
        "\n",
        "\n",
        "st.set_page_config(\n",
        "    page_title=\"Consctruction Safety Detection using YOLO\",\n",
        "    layout=\"wide\",\n",
        "    initial_sidebar_state=\"expanded\"\n",
        ")\n",
        "\n",
        "# Main page\n",
        "st.header(\"Consctruction Safety Detection using YOLO\", divider='rainbow')\n",
        "\n",
        "# Sidebar\n",
        "st.sidebar.header(\"Configuration\")\n",
        "confidence = float(st.sidebar.slider( \"Select Model Confidence\", 25, 100, 40)) / 100\n",
        "model_path = Path(settings.DETECTION_MODEL)\n",
        "\n",
        "# Load Pre-trained Model\n",
        "try:\n",
        "    model = helper.load_model(model_path)\n",
        "except Exception as ex:\n",
        "    st.error(f\"Unable to load model. Check path: {model_path}\")\n",
        "    st.error(ex)\n",
        "\n",
        "st.sidebar.header(\"Image/Video Config\")\n",
        "source_radio = st.sidebar.radio(\n",
        "    \"Select Source\", settings.SOURCES_LIST)\n",
        "\n",
        "source_img = None\n",
        "\n",
        "# If image is selected\n",
        "if source_radio == settings.IMAGE:\n",
        "    source_img = st.sidebar.file_uploader(\n",
        "        \"Choose an image...\", type=(\"jpg\", \"jpeg\", \"png\", 'bmp', 'webp'))\n",
        "\n",
        "    col1, col2 = st.columns(2)\n",
        "\n",
        "    with col1:\n",
        "        try:\n",
        "            if source_img is None:\n",
        "                st.image(st.image(\"https://cdn.sstatic.net/Sites/stackoverflow/Img/apple-touch-icon@2.png\", width=400), caption=\"Default Image\", use_column_width=True)\n",
        "            else:\n",
        "                uploaded_image = PIL.Image.open(source_img)\n",
        "                st.image(source_img, caption=\"Uploaded Image\",\n",
        "                         use_column_width=True)\n",
        "        except Exception as ex:\n",
        "            st.error(ex)\n",
        "\n",
        "    with col2:\n",
        "        if source_img is None:\n",
        "            st.subheader('Masukkan gambar atau video anda terlebih dahulu')\n",
        "        else:\n",
        "            if st.sidebar.button('Detect Objects'):\n",
        "                res = model.predict(uploaded_image,\n",
        "                                    conf=confidence\n",
        "                                    )\n",
        "                boxes = res[0].boxes\n",
        "                res_plotted = res[0].plot()[:, :, ::-1]\n",
        "                st.image(res_plotted, caption='Detected Image',\n",
        "                         use_column_width=True)\n",
        "                try:\n",
        "                    with st.expander(\"Detection Results\"):\n",
        "                        for box in boxes:\n",
        "                            st.write(box.data)\n",
        "                except Exception as ex:\n",
        "                    st.write(\"No image is uploaded yet!\")\n",
        "\n",
        "elif source_radio == settings.VIDEO:\n",
        "  helper.play_stored_video(confidence, model)\n",
        "\n",
        "else:\n",
        "    st.error(\"Please select a valid source type!\")"
      ],
      "metadata": {
        "colab": {
          "base_uri": "https://localhost:8080/"
        },
        "id": "mdMMuWAW5-ei",
        "outputId": "d3a9f71f-5929-4d8a-aec7-81b3c08ecb8f"
      },
      "execution_count": 32,
      "outputs": [
        {
          "output_type": "stream",
          "name": "stdout",
          "text": [
            "Overwriting app.py\n"
          ]
        }
      ]
    },
    {
      "cell_type": "code",
      "execution_count": 33,
      "metadata": {
        "colab": {
          "base_uri": "https://localhost:8080/"
        },
        "id": "Z6_VHmbl5ong",
        "outputId": "9ec8b28a-cd6b-4d18-95c1-72fd49406c59"
      },
      "outputs": [
        {
          "output_type": "stream",
          "name": "stdout",
          "text": [
            "\u001b[?25l[..................] / rollbackFailedOptional: verb npm-session 9ba1fa5e24e36a4\u001b[0m\u001b[K\r[..................] / rollbackFailedOptional: verb npm-session 9ba1fa5e24e36a4\u001b[0m\u001b[K\r[..................] / rollbackFailedOptional: verb npm-session 9ba1fa5e24e36a4\u001b[0m\u001b[K\r[..................] \\ fetchMetadata: sill resolveWithNewModule localtunnel@2.0\u001b[0m\u001b[K\r\n",
            "Collecting usage statistics. To deactivate, set browser.gatherUsageStats to False.\n",
            "\u001b[0m\n",
            "\u001b[K\u001b[?25hnpx: installed 22 in 2.837s\n",
            "your url is: https://five-streets-grin.loca.lt\n",
            "\u001b[0m\n",
            "\u001b[34m\u001b[1m  You can now view your Streamlit app in your browser.\u001b[0m\n",
            "\u001b[0m\n",
            "\u001b[34m  Network URL: \u001b[0m\u001b[1mhttp://172.28.0.12:8501\u001b[0m\n",
            "\u001b[34m  External URL: \u001b[0m\u001b[1mhttp://35.245.56.243:8501\u001b[0m\n",
            "\u001b[0m\n",
            "\n",
            "0: 448x640 2 helmets, 315.5ms\n",
            "Speed: 7.0ms preprocess, 315.5ms inference, 1.6ms postprocess per image at shape (1, 3, 448, 640)\n",
            "\n",
            "0: 448x640 2 helmets, 236.5ms\n",
            "Speed: 7.2ms preprocess, 236.5ms inference, 1.1ms postprocess per image at shape (1, 3, 448, 640)\n",
            "\u001b[34m  Stopping...\u001b[0m\n",
            "Exception in callback _HandlerDelegate.execute.<locals>.<lambda>(<Task cancell.../web.py:1742>>) at /usr/local/lib/python3.10/dist-packages/tornado/web.py:2434\n",
            "handle: <Handle _HandlerDelegate.execute.<locals>.<lambda>(<Task cancell.../web.py:1742>>) at /usr/local/lib/python3.10/dist-packages/tornado/web.py:2434>\n",
            "Traceback (most recent call last):\n",
            "  File \"/usr/local/lib/python3.10/dist-packages/tornado/web.py\", line 1786, in _execute\n",
            "    result = await result\n",
            "  File \"/usr/local/lib/python3.10/dist-packages/tornado/web.py\", line 2756, in get\n",
            "    await self.flush()\n",
            "asyncio.exceptions.CancelledError\n",
            "\n",
            "During handling of the above exception, another exception occurred:\n",
            "\n",
            "Traceback (most recent call last):\n",
            "  File \"/usr/lib/python3.10/asyncio/events.py\", line 80, in _run\n",
            "    self._context.run(self._callback, *self._args)\n",
            "  File \"/usr/local/lib/python3.10/dist-packages/tornado/web.py\", line 2434, in <lambda>\n",
            "    fut.add_done_callback(lambda f: f.result())\n",
            "asyncio.exceptions.CancelledError\n",
            "^C\n"
          ]
        }
      ],
      "source": [
        "!streamlit run app.py & npx localtunnel --port 8501"
      ]
    }
  ]
}